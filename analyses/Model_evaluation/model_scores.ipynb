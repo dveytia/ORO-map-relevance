{
 "cells": [
  {
   "cell_type": "code",
   "execution_count": 2,
   "id": "9092aa5e-921f-4134-af31-a801356e83cf",
   "metadata": {},
   "outputs": [],
   "source": [
    "import pandas as pd"
   ]
  },
  {
   "cell_type": "code",
   "execution_count": 32,
   "id": "a0195b48-42f0-4d45-9ae8-56f6ea2bfe31",
   "metadata": {},
   "outputs": [],
   "source": [
    "def get_best_model_single(file_path_prefix, k_range):\n",
    "    inner_scores = []\n",
    "    params = ['batch_size','weight_decay','learning_rate','num_epochs','class_weight']\n",
    "    \n",
    "    for k in range(k_range): #Change to 5 if you are using the binary\n",
    "        inner_df = pd.read_csv(f'{file_path_prefix}{k}.csv')\n",
    "        inner_df = inner_df.sort_values('F1',ascending=False).reset_index(drop=True)\n",
    "        inner_scores += inner_df.to_dict('records')\n",
    "    \n",
    "    inner_scores = pd.DataFrame.from_dict(inner_scores).fillna(-1)\n",
    "    best_model = (inner_scores\n",
    "                  .groupby(params).agg({\n",
    "                      'F1':'mean',\n",
    "                      'ROC AUC':'mean',\n",
    "                      'precision':'mean',\n",
    "                      'recall':'mean',\n",
    "                      'accuracy':'mean'\n",
    "                      }).sort_values('F1',ascending=False).reset_index()).to_dict('records')[0]\n",
    "    best_model = pd.DataFrame(best_model,index=[0])\n",
    "    del inner_scores, inner_df\n",
    "    return best_model"
   ]
  },
  {
   "cell_type": "code",
   "execution_count": 33,
   "id": "ab2527e8-a218-411d-942c-f1508b2e3125",
   "metadata": {},
   "outputs": [
    {
     "data": {
      "text/html": [
       "<div>\n",
       "<style scoped>\n",
       "    .dataframe tbody tr th:only-of-type {\n",
       "        vertical-align: middle;\n",
       "    }\n",
       "\n",
       "    .dataframe tbody tr th {\n",
       "        vertical-align: top;\n",
       "    }\n",
       "\n",
       "    .dataframe thead th {\n",
       "        text-align: right;\n",
       "    }\n",
       "</style>\n",
       "<table border=\"1\" class=\"dataframe\">\n",
       "  <thead>\n",
       "    <tr style=\"text-align: right;\">\n",
       "      <th></th>\n",
       "      <th>batch_size</th>\n",
       "      <th>weight_decay</th>\n",
       "      <th>learning_rate</th>\n",
       "      <th>num_epochs</th>\n",
       "      <th>class_weight</th>\n",
       "      <th>F1</th>\n",
       "      <th>ROC AUC</th>\n",
       "      <th>precision</th>\n",
       "      <th>recall</th>\n",
       "      <th>accuracy</th>\n",
       "    </tr>\n",
       "  </thead>\n",
       "  <tbody>\n",
       "    <tr>\n",
       "      <th>0</th>\n",
       "      <td>16</td>\n",
       "      <td>0.0</td>\n",
       "      <td>0.00001</td>\n",
       "      <td>2</td>\n",
       "      <td>-1</td>\n",
       "      <td>0.802477</td>\n",
       "      <td>0.938158</td>\n",
       "      <td>0.726099</td>\n",
       "      <td>0.897321</td>\n",
       "      <td>0.879555</td>\n",
       "    </tr>\n",
       "  </tbody>\n",
       "</table>\n",
       "</div>"
      ],
      "text/plain": [
       "   batch_size  weight_decay  learning_rate  num_epochs  class_weight  \\\n",
       "0          16           0.0        0.00001           2            -1   \n",
       "\n",
       "         F1   ROC AUC  precision    recall  accuracy  \n",
       "0  0.802477  0.938158   0.726099  0.897321  0.879555  "
      ]
     },
     "execution_count": 33,
     "metadata": {},
     "output_type": "execute_result"
    }
   ],
   "source": [
    "test2=get_best_model_single(f'/home/dveytia/ORO-map-relevance/outputs/model_selection/climate_mitigation_model_selection_', 3)\n",
    "test2"
   ]
  },
  {
   "cell_type": "code",
   "execution_count": 11,
   "id": "606318ec-0f67-4714-ab55-86df9242e194",
   "metadata": {},
   "outputs": [
    {
     "data": {
      "text/plain": [
       "['F1 macro',\n",
       " 'F1 - adapt_to_threat.Human',\n",
       " 'F1 - adapt_to_threat.Natural',\n",
       " 'F1 - adapt_to_threat.Both']"
      ]
     },
     "execution_count": 11,
     "metadata": {},
     "output_type": "execute_result"
    }
   ],
   "source": [
    "# This is just I I wanted to create different lines for the labels, but I think for simplicity I'll just use the macro \n",
    "file_path_prefix = f'/home/dveytia/ORO-map-relevance/outputs/model_selection/adapt_to_threat_model_selection_'\n",
    "inner_scores = []\n",
    "params = ['batch_size','weight_decay','learning_rate','num_epochs','class_weight']\n",
    "k=0\n",
    "inner_df = pd.read_csv(f'{file_path_prefix}{k}.csv')\n",
    "targets = [x for x in inner_df.columns if 'F1' in x] \n",
    "#[x for x in ['micro', 'weighted', 'samples'] for x in targets)\n",
    "targets.remove('F1 micro')\n",
    "targets.remove('F1 weighted')\n",
    "targets.remove('F1 samples')\n",
    "targets\n"
   ]
  },
  {
   "cell_type": "code",
   "execution_count": 31,
   "id": "e0622483-3318-4e40-9e49-c523d37bad7b",
   "metadata": {},
   "outputs": [
    {
     "ename": "KeyError",
     "evalue": "'F1'",
     "output_type": "error",
     "traceback": [
      "\u001b[0;31m---------------------------------------------------------------------------\u001b[0m",
      "\u001b[0;31mKeyError\u001b[0m                                  Traceback (most recent call last)",
      "Cell \u001b[0;32mIn[31], line 26\u001b[0m\n\u001b[1;32m     14\u001b[0m best_model \u001b[38;5;241m=\u001b[39m (inner_scores\n\u001b[1;32m     15\u001b[0m                   \u001b[38;5;241m.\u001b[39mgroupby(params)\u001b[38;5;241m.\u001b[39magg({\n\u001b[1;32m     16\u001b[0m                       \u001b[38;5;124m'\u001b[39m\u001b[38;5;124mF1 macro\u001b[39m\u001b[38;5;124m'\u001b[39m:\u001b[38;5;124m'\u001b[39m\u001b[38;5;124mmean\u001b[39m\u001b[38;5;124m'\u001b[39m,\n\u001b[0;32m   (...)\u001b[0m\n\u001b[1;32m     20\u001b[0m                       \u001b[38;5;124m'\u001b[39m\u001b[38;5;124maccuracy macro\u001b[39m\u001b[38;5;124m'\u001b[39m:\u001b[38;5;124m'\u001b[39m\u001b[38;5;124mmean\u001b[39m\u001b[38;5;124m'\u001b[39m\n\u001b[1;32m     21\u001b[0m                       })\u001b[38;5;241m.\u001b[39msort_values(\u001b[38;5;124m'\u001b[39m\u001b[38;5;124mF1 macro\u001b[39m\u001b[38;5;124m'\u001b[39m,ascending\u001b[38;5;241m=\u001b[39m\u001b[38;5;28;01mFalse\u001b[39;00m)\u001b[38;5;241m.\u001b[39mreset_index())\u001b[38;5;241m.\u001b[39mto_dict(\u001b[38;5;124m'\u001b[39m\u001b[38;5;124mrecords\u001b[39m\u001b[38;5;124m'\u001b[39m)[\u001b[38;5;241m0\u001b[39m]\n\u001b[1;32m     23\u001b[0m \u001b[38;5;66;03m#best_model = pd.DataFrame(best_model,index=[0])\u001b[39;00m\n\u001b[1;32m     24\u001b[0m \u001b[38;5;66;03m#best_model.rename(columns={'F1 macro': 'F1', 'ROC AUC macro': 'ROC AUC', 'precision macro':'precision', 'recall macro':'recall', 'accuracy macro':'accuracy'}, inplace=True)\u001b[39;00m\n\u001b[0;32m---> 26\u001b[0m best_model[\u001b[38;5;124m'\u001b[39m\u001b[38;5;124mF1 macro\u001b[39m\u001b[38;5;124m'\u001b[39m]\u001b[38;5;241m=\u001b[39m\u001b[43mbest_model\u001b[49m\u001b[38;5;241;43m.\u001b[39;49m\u001b[43mpop\u001b[49m\u001b[43m(\u001b[49m\u001b[38;5;124;43m'\u001b[39;49m\u001b[38;5;124;43mF1\u001b[39;49m\u001b[38;5;124;43m'\u001b[39;49m\u001b[43m)\u001b[49m\n\u001b[1;32m     27\u001b[0m best_model\n",
      "\u001b[0;31mKeyError\u001b[0m: 'F1'"
     ]
    }
   ],
   "source": [
    "file_path_prefix = f'/home/dveytia/ORO-map-relevance/outputs/model_selection/adapt_to_threat_model_selection_'\n",
    "inner_scores = []\n",
    "params = ['batch_size','weight_decay','learning_rate','num_epochs','class_weight']\n",
    "k=0\n",
    "\n",
    "inner_df = inner_df.sort_values('F1 macro',ascending=False).reset_index(drop=True)\n",
    "inner_scores += inner_df.to_dict('records')\n",
    "    \n",
    "inner_scores = pd.DataFrame.from_dict(inner_scores).fillna(-1)\n",
    "\n",
    "if 'accuracy macro' not in list(inner_scores.columns): # if there is no accuracy macro column set to dummy value\n",
    "        inner_scores['accuracy macro'] = -999 \n",
    "\n",
    "best_model = (inner_scores\n",
    "                  .groupby(params).agg({\n",
    "                      'F1 macro':'mean',\n",
    "                      'ROC AUC macro':'mean',\n",
    "                      'precision macro':'mean',\n",
    "                      'recall macro':'mean',\n",
    "                      'accuracy macro':'mean'\n",
    "                      }).sort_values('F1 macro',ascending=False).reset_index()).to_dict('records')[0]\n",
    "    \n",
    "best_model = pd.DataFrame(best_model,index=[0])\n",
    "best_model.rename(columns={'F1 macro': 'F1', 'ROC AUC macro': 'ROC AUC', 'precision macro':'precision', 'recall macro':'recall', 'accuracy macro':'accuracy'}, inplace=True)\n",
    "\n",
    "best_model"
   ]
  },
  {
   "cell_type": "code",
   "execution_count": 19,
   "id": "105cb11c-0695-45f3-843a-8eb11b602606",
   "metadata": {},
   "outputs": [
    {
     "data": {
      "text/html": [
       "<div>\n",
       "<style scoped>\n",
       "    .dataframe tbody tr th:only-of-type {\n",
       "        vertical-align: middle;\n",
       "    }\n",
       "\n",
       "    .dataframe tbody tr th {\n",
       "        vertical-align: top;\n",
       "    }\n",
       "\n",
       "    .dataframe thead th {\n",
       "        text-align: right;\n",
       "    }\n",
       "</style>\n",
       "<table border=\"1\" class=\"dataframe\">\n",
       "  <thead>\n",
       "    <tr style=\"text-align: right;\">\n",
       "      <th></th>\n",
       "      <th>batch_size</th>\n",
       "      <th>weight_decay</th>\n",
       "      <th>learning_rate</th>\n",
       "      <th>num_epochs</th>\n",
       "      <th>class_weight</th>\n",
       "      <th>F1 macro</th>\n",
       "      <th>ROC AUC macro</th>\n",
       "      <th>precision macro</th>\n",
       "      <th>recall macro</th>\n",
       "      <th>accuracy macro</th>\n",
       "    </tr>\n",
       "  </thead>\n",
       "  <tbody>\n",
       "    <tr>\n",
       "      <th>0</th>\n",
       "      <td>32</td>\n",
       "      <td>0.0</td>\n",
       "      <td>0.00005</td>\n",
       "      <td>4</td>\n",
       "      <td>{0: 2.116788321167883, 1: 12.774193548387096, ...</td>\n",
       "      <td>0.42117</td>\n",
       "      <td>0.769914</td>\n",
       "      <td>0.499038</td>\n",
       "      <td>0.499671</td>\n",
       "      <td>-999.0</td>\n",
       "    </tr>\n",
       "  </tbody>\n",
       "</table>\n",
       "</div>"
      ],
      "text/plain": [
       "   batch_size  weight_decay  learning_rate  num_epochs  \\\n",
       "0          32           0.0        0.00005           4   \n",
       "\n",
       "                                        class_weight  F1 macro  ROC AUC macro  \\\n",
       "0  {0: 2.116788321167883, 1: 12.774193548387096, ...   0.42117       0.769914   \n",
       "\n",
       "   precision macro  recall macro  accuracy macro  \n",
       "0         0.499038      0.499671          -999.0  "
      ]
     },
     "execution_count": 19,
     "metadata": {},
     "output_type": "execute_result"
    }
   ],
   "source": [
    "pd.DataFrame(best_model,index=[0])"
   ]
  },
  {
   "cell_type": "code",
   "execution_count": 34,
   "id": "185b7857-0623-4c2c-8870-4988d10f7ab5",
   "metadata": {},
   "outputs": [],
   "source": [
    "def get_best_model_multi(file_path_prefix, k_range):\n",
    "    inner_scores = []\n",
    "    params = ['batch_size','weight_decay','learning_rate','num_epochs','class_weight']\n",
    "    \n",
    "    for k in range(k_range): #Change to 5 if you are using the binary\n",
    "        inner_df = pd.read_csv(f'{file_path_prefix}{k}.csv')\n",
    "        inner_df = inner_df.sort_values('F1 macro', ascending=False).reset_index(drop=True)\n",
    "        inner_scores += inner_df.to_dict('records')\n",
    "    \n",
    "    inner_scores = pd.DataFrame.from_dict(inner_scores).fillna(-1)\n",
    "    \n",
    "    if 'accuracy macro' not in list(inner_scores.columns): # if there is no accuracy macro column set to dummy value\n",
    "        inner_scores['accuracy macro'] = -999 \n",
    "        \n",
    "    best_model = (inner_scores\n",
    "                  .groupby(params).agg({\n",
    "                      'F1 macro':'mean',\n",
    "                      'ROC AUC macro':'mean',\n",
    "                      'precision macro':'mean',\n",
    "                      'recall macro':'mean',\n",
    "                      'accuracy macro':'mean'\n",
    "                      }).sort_values('F1 macro',ascending=False).reset_index()).to_dict('records')[0]\n",
    "    \n",
    "    best_model = pd.DataFrame(best_model,index=[0])\n",
    "    best_model.rename(columns={'F1 macro': 'F1', 'ROC AUC macro': 'ROC AUC', 'precision macro':'precision', 'recall macro':'recall', 'accuracy macro':'accuracy'}, inplace=True)\n",
    "    \n",
    "    del inner_scores, inner_df\n",
    "    return best_model"
   ]
  },
  {
   "cell_type": "code",
   "execution_count": 36,
   "id": "b0410c4f-92a4-4c53-80b5-726585059b6a",
   "metadata": {},
   "outputs": [
    {
     "data": {
      "text/html": [
       "<div>\n",
       "<style scoped>\n",
       "    .dataframe tbody tr th:only-of-type {\n",
       "        vertical-align: middle;\n",
       "    }\n",
       "\n",
       "    .dataframe tbody tr th {\n",
       "        vertical-align: top;\n",
       "    }\n",
       "\n",
       "    .dataframe thead th {\n",
       "        text-align: right;\n",
       "    }\n",
       "</style>\n",
       "<table border=\"1\" class=\"dataframe\">\n",
       "  <thead>\n",
       "    <tr style=\"text-align: right;\">\n",
       "      <th></th>\n",
       "      <th>batch_size</th>\n",
       "      <th>weight_decay</th>\n",
       "      <th>learning_rate</th>\n",
       "      <th>num_epochs</th>\n",
       "      <th>class_weight</th>\n",
       "      <th>F1</th>\n",
       "      <th>ROC AUC</th>\n",
       "      <th>precision</th>\n",
       "      <th>recall</th>\n",
       "      <th>accuracy</th>\n",
       "    </tr>\n",
       "  </thead>\n",
       "  <tbody>\n",
       "    <tr>\n",
       "      <th>0</th>\n",
       "      <td>32</td>\n",
       "      <td>0.0</td>\n",
       "      <td>0.00005</td>\n",
       "      <td>4</td>\n",
       "      <td>{0: 2.116788321167883, 1: 12.774193548387096, ...</td>\n",
       "      <td>0.470982</td>\n",
       "      <td>0.835704</td>\n",
       "      <td>0.540875</td>\n",
       "      <td>0.494483</td>\n",
       "      <td>-999.0</td>\n",
       "    </tr>\n",
       "  </tbody>\n",
       "</table>\n",
       "</div>"
      ],
      "text/plain": [
       "   batch_size  weight_decay  learning_rate  num_epochs  \\\n",
       "0          32           0.0        0.00005           4   \n",
       "\n",
       "                                        class_weight        F1   ROC AUC  \\\n",
       "0  {0: 2.116788321167883, 1: 12.774193548387096, ...  0.470982  0.835704   \n",
       "\n",
       "   precision    recall  accuracy  \n",
       "0   0.540875  0.494483    -999.0  "
      ]
     },
     "execution_count": 36,
     "metadata": {},
     "output_type": "execute_result"
    }
   ],
   "source": [
    "test1=get_best_model_multi(f'/home/dveytia/ORO-map-relevance/outputs/model_selection/adapt_to_threat_model_selection_', 3)\n",
    "test1"
   ]
  },
  {
   "cell_type": "code",
   "execution_count": 42,
   "id": "f9d75468-84f5-4e4c-9888-7b859951b059",
   "metadata": {},
   "outputs": [
    {
     "data": {
      "text/html": [
       "<div>\n",
       "<style scoped>\n",
       "    .dataframe tbody tr th:only-of-type {\n",
       "        vertical-align: middle;\n",
       "    }\n",
       "\n",
       "    .dataframe tbody tr th {\n",
       "        vertical-align: top;\n",
       "    }\n",
       "\n",
       "    .dataframe thead th {\n",
       "        text-align: right;\n",
       "    }\n",
       "</style>\n",
       "<table border=\"1\" class=\"dataframe\">\n",
       "  <thead>\n",
       "    <tr style=\"text-align: right;\">\n",
       "      <th></th>\n",
       "      <th>batch_size</th>\n",
       "      <th>weight_decay</th>\n",
       "      <th>learning_rate</th>\n",
       "      <th>num_epochs</th>\n",
       "      <th>class_weight</th>\n",
       "      <th>F1</th>\n",
       "      <th>ROC AUC</th>\n",
       "      <th>precision</th>\n",
       "      <th>recall</th>\n",
       "      <th>accuracy</th>\n",
       "    </tr>\n",
       "  </thead>\n",
       "  <tbody>\n",
       "    <tr>\n",
       "      <th>0</th>\n",
       "      <td>32</td>\n",
       "      <td>0.0</td>\n",
       "      <td>0.00005</td>\n",
       "      <td>4</td>\n",
       "      <td>{0: 2.116788321167883, 1: 12.774193548387096, ...</td>\n",
       "      <td>0.470982</td>\n",
       "      <td>0.835704</td>\n",
       "      <td>0.540875</td>\n",
       "      <td>0.494483</td>\n",
       "      <td>-999.000000</td>\n",
       "    </tr>\n",
       "    <tr>\n",
       "      <th>0</th>\n",
       "      <td>16</td>\n",
       "      <td>0.0</td>\n",
       "      <td>0.00001</td>\n",
       "      <td>2</td>\n",
       "      <td>-1</td>\n",
       "      <td>0.802477</td>\n",
       "      <td>0.938158</td>\n",
       "      <td>0.726099</td>\n",
       "      <td>0.897321</td>\n",
       "      <td>0.879555</td>\n",
       "    </tr>\n",
       "  </tbody>\n",
       "</table>\n",
       "</div>"
      ],
      "text/plain": [
       "   batch_size  weight_decay  learning_rate  num_epochs  \\\n",
       "0          32           0.0        0.00005           4   \n",
       "0          16           0.0        0.00001           2   \n",
       "\n",
       "                                        class_weight        F1   ROC AUC  \\\n",
       "0  {0: 2.116788321167883, 1: 12.774193548387096, ...  0.470982  0.835704   \n",
       "0                                                 -1  0.802477  0.938158   \n",
       "\n",
       "   precision    recall    accuracy  \n",
       "0   0.540875  0.494483 -999.000000  \n",
       "0   0.726099  0.897321    0.879555  "
      ]
     },
     "execution_count": 42,
     "metadata": {},
     "output_type": "execute_result"
    }
   ],
   "source": [
    "best_models_all=pd.concat([test1, test2])\n",
    "best_models_all"
   ]
  },
  {
   "cell_type": "code",
   "execution_count": 39,
   "id": "0ce9b80c-bd7a-4c01-8c0a-490d2bdf8a66",
   "metadata": {},
   "outputs": [
    {
     "data": {
      "text/plain": [
       "(1, 10)"
      ]
     },
     "execution_count": 39,
     "metadata": {},
     "output_type": "execute_result"
    }
   ],
   "source": [
    "test2.shape"
   ]
  },
  {
   "cell_type": "code",
   "execution_count": null,
   "id": "f5774431-0224-4676-a87d-bf3e8b98a9dc",
   "metadata": {},
   "outputs": [],
   "source": []
  }
 ],
 "metadata": {
  "kernelspec": {
   "display_name": "distilBERT_env",
   "language": "python",
   "name": "distilbert_env"
  },
  "language_info": {
   "codemirror_mode": {
    "name": "ipython",
    "version": 3
   },
   "file_extension": ".py",
   "mimetype": "text/x-python",
   "name": "python",
   "nbconvert_exporter": "python",
   "pygments_lexer": "ipython3",
   "version": "3.8.16"
  }
 },
 "nbformat": 4,
 "nbformat_minor": 5
}
